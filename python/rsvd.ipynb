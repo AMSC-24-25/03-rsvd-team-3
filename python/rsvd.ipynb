{
 "cells": [
  {
   "cell_type": "code",
   "execution_count": 6,
   "metadata": {},
   "outputs": [],
   "source": [
    "import numpy as np"
   ]
  },
  {
   "cell_type": "code",
   "execution_count": 7,
   "metadata": {},
   "outputs": [],
   "source": [
    "def rsvd(A, rank, power_iterations=3):\n",
    "    \"\"\"\n",
    "    Perform Randomized Singular Value Decomposition (RSVD).\n",
    "\n",
    "    Parameters:\n",
    "        A (np.ndarray): Input matrix.\n",
    "        rank (int): Target rank for the approximation.\n",
    "        power_iterations (int): Number of power iterations to enhance accuracy.\n",
    "\n",
    "    Returns:\n",
    "        u (np.ndarray): Left singular vectors.\n",
    "        s (np.ndarray): Singular values.\n",
    "        v (np.ndarray): Right singular vectors (transposed).\n",
    "    \"\"\"\n",
    "    # Step 1: Generate a random matrix Omega\n",
    "    n_rows, n_cols = A.shape\n",
    "    Omega = np.random.randn(n_cols, rank)\n",
    "\n",
    "    # Step 2: Perform power iteration\n",
    "    Y = A @ Omega\n",
    "    for _ in range(power_iterations):\n",
    "        Y = A @ (A.T @ Y)\n",
    "\n",
    "    # Step 3: Compute orthogonal matrix Q\n",
    "    Q, _ = np.linalg.qr(Y)\n",
    "\n",
    "    # Step 4: Project A onto the low-dimensional subspace\n",
    "    B = Q.T @ A\n",
    "\n",
    "    # Step 5: Compute SVD on the smaller matrix B\n",
    "    u_tilde, s, v = np.linalg.svd(B, full_matrices=False)\n",
    "\n",
    "    # Step 6: Recover the left singular vectors of A\n",
    "    u = Q @ u_tilde\n",
    "\n",
    "    return u, s, v"
   ]
  },
  {
   "cell_type": "code",
   "execution_count": 8,
   "metadata": {},
   "outputs": [
    {
     "name": "stdout",
     "output_type": "stream",
     "text": [
      "CPU times: user 24.9 ms, sys: 13 ms, total: 37.8 ms\n",
      "Wall time: 129 ms\n"
     ]
    }
   ],
   "source": [
    "%%time\n",
    "n = 2000\n",
    "rank = 10\n",
    "A = np.random.uniform(-1, 1, (n, n))"
   ]
  },
  {
   "cell_type": "code",
   "execution_count": 5,
   "metadata": {},
   "outputs": [
    {
     "ename": "NameError",
     "evalue": "name 'A' is not defined",
     "output_type": "error",
     "traceback": [
      "\u001b[0;31m---------------------------------------------------------------------------\u001b[0m",
      "\u001b[0;31mNameError\u001b[0m                                 Traceback (most recent call last)",
      "File \u001b[0;32m<timed eval>:2\u001b[0m\n",
      "\u001b[0;31mNameError\u001b[0m: name 'A' is not defined"
     ]
    }
   ],
   "source": [
    "%%time\n",
    "# Perform RSVD\n",
    "rsvd(A, rank, power_iterations=2)"
   ]
  },
  {
   "cell_type": "code",
   "execution_count": null,
   "metadata": {},
   "outputs": [
    {
     "name": "stdout",
     "output_type": "stream",
     "text": [
      "CPU times: user 4.2 s, sys: 298 ms, total: 4.5 s\n",
      "Wall time: 1.71 s\n"
     ]
    }
   ],
   "source": [
    "%%time\n",
    "np.linalg.svd(A, full_matrices=False)"
   ]
  },
  {
   "cell_type": "code",
   "execution_count": null,
   "metadata": {},
   "outputs": [
    {
     "name": "stdout",
     "output_type": "stream",
     "text": [
      "Singular values:\n",
      " [25.46240744  1.29066168] \n",
      "\n",
      "U:\n",
      " [[-0.14087668 -0.82471435]\n",
      " [-0.34394629 -0.42626394]\n",
      " [-0.54701591 -0.02781353]\n",
      " [-0.75008553  0.37063688]] \n",
      "\n",
      "V:\n",
      " [[-0.50453315  0.76077568]\n",
      " [-0.5745157   0.05714052]\n",
      " [-0.64449826 -0.64649464]] \n",
      "\n"
     ]
    }
   ],
   "source": [
    "import numpy as np\n",
    "\n",
    "# 创建与 C++ 示例中相同的矩阵\n",
    "A = np.array([[1, 2, 3], [4, 5, 6], [7, 8, 9], [10, 11, 12]], dtype=float)\n",
    "\n",
    "# 我们只想要前 rank 个奇异值和奇异向量\n",
    "rank = 2\n",
    "\n",
    "# 使用 numpy.linalg.svd 计算完整的 SVD\n",
    "# full_matrices=False 会返回 \"economy\" 尺度的 U 和 Vt，使得 U.shape = (m, n), Vt.shape = (n, n)\n",
    "U, s, Vt = np.linalg.svd(A, full_matrices=False)\n",
    "\n",
    "# 提取前 rank 个奇异值与奇异向量\n",
    "s_k = s[:rank]\n",
    "U_k = U[:, :rank]  # 取前 rank 列\n",
    "V_k = Vt[:rank, :].T  # Vt 是 V 的转置，所以这里转置回来以获得 V 矩阵\n",
    "\n",
    "print(\"Singular values:\\n\", s_k, \"\\n\")\n",
    "print(\"U:\\n\", U_k, \"\\n\")\n",
    "print(\"V:\\n\", V_k, \"\\n\")"
   ]
  },
  {
   "cell_type": "code",
   "execution_count": null,
   "metadata": {},
   "outputs": [],
   "source": []
  }
 ],
 "metadata": {
  "kernelspec": {
   "display_name": ".venv",
   "language": "python",
   "name": "python3"
  },
  "language_info": {
   "codemirror_mode": {
    "name": "ipython",
    "version": 3
   },
   "file_extension": ".py",
   "mimetype": "text/x-python",
   "name": "python",
   "nbconvert_exporter": "python",
   "pygments_lexer": "ipython3",
   "version": "3.10.13"
  }
 },
 "nbformat": 4,
 "nbformat_minor": 2
}
