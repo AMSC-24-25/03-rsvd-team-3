{
 "cells": [
  {
   "cell_type": "code",
   "execution_count": 7,
   "metadata": {},
   "outputs": [],
   "source": [
    "import numpy as np"
   ]
  },
  {
   "cell_type": "code",
   "execution_count": 8,
   "metadata": {},
   "outputs": [],
   "source": [
    "def rsvd(A, rank, power_iterations=3):\n",
    "    \"\"\"\n",
    "    Perform Randomized Singular Value Decomposition (RSVD).\n",
    "\n",
    "    Parameters:\n",
    "        A (np.ndarray): Input matrix.\n",
    "        rank (int): Target rank for the approximation.\n",
    "        power_iterations (int): Number of power iterations to enhance accuracy.\n",
    "\n",
    "    Returns:\n",
    "        u (np.ndarray): Left singular vectors.\n",
    "        s (np.ndarray): Singular values.\n",
    "        v (np.ndarray): Right singular vectors (transposed).\n",
    "    \"\"\"\n",
    "    # Step 1: Generate a random matrix Omega\n",
    "    n_rows, n_cols = A.shape\n",
    "    Omega = np.random.randn(n_cols, rank)\n",
    "\n",
    "    # Step 2: Perform power iteration\n",
    "    Y = A @ Omega\n",
    "    for _ in range(power_iterations):\n",
    "        Y = A @ (A.T @ Y)\n",
    "\n",
    "    # Step 3: Compute orthogonal matrix Q\n",
    "    Q, _ = np.linalg.qr(Y)\n",
    "\n",
    "    # Step 4: Project A onto the low-dimensional subspace\n",
    "    B = Q.T @ A\n",
    "\n",
    "    # Step 5: Compute SVD on the smaller matrix B\n",
    "    u_tilde, s, v = np.linalg.svd(B, full_matrices=False)\n",
    "\n",
    "    # Step 6: Recover the left singular vectors of A\n",
    "    u = Q @ u_tilde\n",
    "\n",
    "    return u, s, v"
   ]
  },
  {
   "cell_type": "code",
   "execution_count": 9,
   "metadata": {},
   "outputs": [
    {
     "name": "stdout",
     "output_type": "stream",
     "text": [
      "CPU times: user 17.9 ms, sys: 5.45 ms, total: 23.3 ms\n",
      "Wall time: 47.4 ms\n"
     ]
    }
   ],
   "source": [
    "%%time\n",
    "n = 2000\n",
    "rank = 10\n",
    "A = np.random.uniform(-1, 1, (n, n))"
   ]
  },
  {
   "cell_type": "code",
   "execution_count": 10,
   "metadata": {},
   "outputs": [
    {
     "name": "stdout",
     "output_type": "stream",
     "text": [
      "CPU times: user 11.8 ms, sys: 5.4 ms, total: 17.2 ms\n",
      "Wall time: 15.3 ms\n"
     ]
    },
    {
     "data": {
      "text/plain": [
       "(array([[-0.00340463, -0.03255558,  0.0177377 , ..., -0.01664312,\n",
       "          0.04387635, -0.00857284],\n",
       "        [-0.03450108, -0.00328702,  0.01233636, ..., -0.00090779,\n",
       "         -0.01046093, -0.00104875],\n",
       "        [ 0.0431147 ,  0.00214874, -0.01520448, ...,  0.03134384,\n",
       "         -0.01012907, -0.01933917],\n",
       "        ...,\n",
       "        [ 0.0021264 , -0.00382396,  0.02984609, ...,  0.01629427,\n",
       "         -0.03951842, -0.02039664],\n",
       "        [-0.0050246 ,  0.02489211,  0.02797375, ...,  0.00071844,\n",
       "          0.01992515,  0.01321685],\n",
       "        [ 0.04729232, -0.04303146,  0.01486049, ..., -0.04560733,\n",
       "          0.04119548, -0.00946987]], shape=(2000, 10)),\n",
       " array([46.93737988, 46.85922237, 46.32673338, 46.11643754, 45.81164462,\n",
       "        45.66982261, 45.44335841, 45.01352828, 44.40465493, 44.13649874]),\n",
       " array([[ 0.01264425,  0.00601113,  0.0073467 , ..., -0.01861615,\n",
       "         -0.00239363,  0.06054813],\n",
       "        [ 0.01700457,  0.00870304, -0.04158599, ...,  0.01825259,\n",
       "         -0.02665541,  0.00728988],\n",
       "        [-0.01544531,  0.01495379, -0.00226993, ..., -0.00075239,\n",
       "          0.03629332,  0.01224214],\n",
       "        ...,\n",
       "        [-0.01052283, -0.02890486, -0.00166004, ...,  0.01291287,\n",
       "         -0.00574679, -0.00647066],\n",
       "        [-0.02646328,  0.01477337,  0.01708825, ...,  0.0108266 ,\n",
       "         -0.00351161, -0.01987059],\n",
       "        [-0.02188826,  0.0374177 ,  0.01647653, ..., -0.03495959,\n",
       "         -0.04121281, -0.01383424]], shape=(10, 2000)))"
      ]
     },
     "execution_count": 10,
     "metadata": {},
     "output_type": "execute_result"
    }
   ],
   "source": [
    "%%time\n",
    "# Perform RSVD\n",
    "rsvd(A, rank, power_iterations=2)"
   ]
  },
  {
   "cell_type": "code",
   "execution_count": 11,
   "metadata": {},
   "outputs": [
    {
     "name": "stdout",
     "output_type": "stream",
     "text": [
      "CPU times: user 4.09 s, sys: 329 ms, total: 4.42 s\n",
      "Wall time: 1.85 s\n"
     ]
    },
    {
     "data": {
      "text/plain": [
       "SVDResult(U=array([[ 6.39317996e-03, -1.50531191e-02, -1.02701446e-02, ...,\n",
       "         2.50464737e-02, -1.04273442e-03,  2.09698635e-02],\n",
       "       [-2.85850388e-04, -2.11000634e-02,  2.96836503e-02, ...,\n",
       "        -1.70153496e-02, -3.40770532e-02,  2.37567494e-02],\n",
       "       [ 1.50117656e-02,  4.90769886e-03,  3.14488420e-02, ...,\n",
       "        -2.48556234e-03, -1.05159338e-02, -3.84307816e-03],\n",
       "       ...,\n",
       "       [ 3.13845383e-03,  6.49527544e-02, -5.37599625e-03, ...,\n",
       "        -7.55573297e-03,  4.61554624e-02, -2.65855252e-02],\n",
       "       [-5.71943118e-05,  2.04061130e-03, -5.03050587e-02, ...,\n",
       "        -5.27107561e-02,  6.84814475e-05,  6.31948429e-03],\n",
       "       [-1.30865975e-02, -1.31863933e-02,  1.79083176e-02, ...,\n",
       "         2.63175874e-02, -2.66086819e-02, -7.22634737e-03]],\n",
       "      shape=(2000, 2000)), S=array([5.13603950e+01, 5.11787409e+01, 5.10912295e+01, ...,\n",
       "       2.98218420e-02, 2.37447453e-02, 7.11455375e-03], shape=(2000,)), Vh=array([[ 0.01449884,  0.00727484,  0.00472147, ..., -0.00599509,\n",
       "         0.00380508, -0.03523816],\n",
       "       [ 0.02687911, -0.05623234,  0.00333708, ...,  0.02371711,\n",
       "         0.00054286,  0.01591647],\n",
       "       [-0.0259902 ,  0.00746474,  0.02100512, ...,  0.00458012,\n",
       "        -0.0134882 ,  0.00377442],\n",
       "       ...,\n",
       "       [ 0.0259837 ,  0.00917054, -0.05173681, ..., -0.03699601,\n",
       "        -0.08266116,  0.00878963],\n",
       "       [ 0.02204636, -0.02469128, -0.03206231, ...,  0.01009753,\n",
       "        -0.02222993,  0.01286747],\n",
       "       [ 0.01400858, -0.02584716,  0.01668775, ..., -0.00259642,\n",
       "         0.02512708,  0.04923287]], shape=(2000, 2000)))"
      ]
     },
     "execution_count": 11,
     "metadata": {},
     "output_type": "execute_result"
    }
   ],
   "source": [
    "%%time\n",
    "np.linalg.svd(A, full_matrices=False)"
   ]
  },
  {
   "cell_type": "code",
   "execution_count": 14,
   "metadata": {},
   "outputs": [
    {
     "name": "stdout",
     "output_type": "stream",
     "text": [
      "Singular values:\n",
      " [25.46240744  1.29066168] \n",
      "\n",
      "U:\n",
      " [[-0.14087668 -0.82471435]\n",
      " [-0.34394629 -0.42626394]\n",
      " [-0.54701591 -0.02781353]\n",
      " [-0.75008553  0.37063688]] \n",
      "\n",
      "V:\n",
      " [[-0.50453315  0.76077568]\n",
      " [-0.5745157   0.05714052]\n",
      " [-0.64449826 -0.64649464]] \n",
      "\n"
     ]
    }
   ],
   "source": [
    "import numpy as np\n",
    "\n",
    "# 创建与 C++ 示例中相同的矩阵\n",
    "A = np.array([[1, 2, 3], [4, 5, 6], [7, 8, 9], [10, 11, 12]], dtype=float)\n",
    "\n",
    "# 我们只想要前 rank 个奇异值和奇异向量\n",
    "rank = 2\n",
    "\n",
    "# 使用 numpy.linalg.svd 计算完整的 SVD\n",
    "# full_matrices=False 会返回 \"economy\" 尺度的 U 和 Vt，使得 U.shape = (m, n), Vt.shape = (n, n)\n",
    "U, s, Vt = np.linalg.svd(A, full_matrices=False)\n",
    "\n",
    "# 提取前 rank 个奇异值与奇异向量\n",
    "s_k = s[:rank]\n",
    "U_k = U[:, :rank]  # 取前 rank 列\n",
    "V_k = Vt[:rank, :].T  # Vt 是 V 的转置，所以这里转置回来以获得 V 矩阵\n",
    "\n",
    "print(\"Singular values:\\n\", s_k, \"\\n\")\n",
    "print(\"U:\\n\", U_k, \"\\n\")\n",
    "print(\"V:\\n\", V_k, \"\\n\")"
   ]
  },
  {
   "cell_type": "code",
   "execution_count": null,
   "metadata": {},
   "outputs": [],
   "source": []
  },
  {
   "cell_type": "code",
   "execution_count": null,
   "metadata": {},
   "outputs": [],
   "source": []
  }
 ],
 "metadata": {
  "kernelspec": {
   "display_name": ".venv",
   "language": "python",
   "name": "python3"
  },
  "language_info": {
   "codemirror_mode": {
    "name": "ipython",
    "version": 3
   },
   "file_extension": ".py",
   "mimetype": "text/x-python",
   "name": "python",
   "nbconvert_exporter": "python",
   "pygments_lexer": "ipython3",
   "version": "3.10.13"
  }
 },
 "nbformat": 4,
 "nbformat_minor": 2
}
