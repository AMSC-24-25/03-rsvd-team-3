{
 "cells": [
  {
   "cell_type": "code",
   "execution_count": 1,
   "metadata": {},
   "outputs": [],
   "source": [
    "import numpy as np"
   ]
  },
  {
   "cell_type": "code",
   "execution_count": 2,
   "metadata": {},
   "outputs": [],
   "source": [
    "def rsvd(A, rank, power_iterations=3):\n",
    "    \"\"\"\n",
    "    Perform Randomized Singular Value Decomposition (RSVD).\n",
    "\n",
    "    Parameters:\n",
    "        A (np.ndarray): Input matrix.\n",
    "        rank (int): Target rank for the approximation.\n",
    "        power_iterations (int): Number of power iterations to enhance accuracy.\n",
    "\n",
    "    Returns:\n",
    "        u (np.ndarray): Left singular vectors.\n",
    "        s (np.ndarray): Singular values.\n",
    "        v (np.ndarray): Right singular vectors (transposed).\n",
    "    \"\"\"\n",
    "    # Step 1: Generate a random matrix Omega\n",
    "    n_rows, n_cols = A.shape\n",
    "    Omega = np.random.randn(n_cols, rank)\n",
    "\n",
    "    # Step 2: Perform power iteration\n",
    "    Y = A @ Omega\n",
    "    for _ in range(power_iterations):\n",
    "        Y = A @ (A.T @ Y)\n",
    "\n",
    "    # Step 3: Compute orthogonal matrix Q\n",
    "    Q, _ = np.linalg.qr(Y)\n",
    "\n",
    "    # Step 4: Project A onto the low-dimensional subspace\n",
    "    B = Q.T @ A\n",
    "\n",
    "    # Step 5: Compute SVD on the smaller matrix B\n",
    "    u_tilde, s, v = np.linalg.svd(B, full_matrices=False)\n",
    "\n",
    "    # Step 6: Recover the left singular vectors of A\n",
    "    u = Q @ u_tilde\n",
    "\n",
    "    return u, s, v"
   ]
  },
  {
   "cell_type": "code",
   "execution_count": 11,
   "metadata": {},
   "outputs": [
    {
     "name": "stdout",
     "output_type": "stream",
     "text": [
      "CPU times: user 17.7 ms, sys: 3.72 ms, total: 21.4 ms\n",
      "Wall time: 56.9 ms\n"
     ]
    }
   ],
   "source": [
    "%%time\n",
    "n = 2000\n",
    "rank = 10\n",
    "A = np.random.uniform(-1, 1, (n, n))"
   ]
  },
  {
   "cell_type": "code",
   "execution_count": 16,
   "metadata": {},
   "outputs": [
    {
     "name": "stdout",
     "output_type": "stream",
     "text": [
      "CPU times: user 11.6 ms, sys: 2.71 ms, total: 14.3 ms\n",
      "Wall time: 19.8 ms\n"
     ]
    },
    {
     "data": {
      "text/plain": [
       "(array([[-1.10605546e-02,  1.42448081e-02,  3.83463371e-02, ...,\n",
       "          1.27411354e-02, -1.74332625e-03,  8.56950927e-03],\n",
       "        [ 1.36769268e-02,  1.33381980e-02, -1.34353911e-03, ...,\n",
       "          8.04447884e-03, -2.69976756e-02,  2.46240834e-02],\n",
       "        [-6.35430778e-03, -6.22866380e-02,  2.14555699e-02, ...,\n",
       "         -9.72888526e-03,  1.68872333e-02, -1.11423762e-02],\n",
       "        ...,\n",
       "        [-1.56734623e-02, -8.31055372e-03,  1.28127283e-03, ...,\n",
       "          3.37653757e-03,  1.08089693e-02,  1.97495927e-03],\n",
       "        [ 1.19705849e-02,  4.70279425e-03,  2.28371382e-02, ...,\n",
       "          1.44262499e-02, -3.54577168e-02,  2.97744251e-02],\n",
       "        [ 2.34366115e-03,  5.85963934e-02,  1.23482535e-02, ...,\n",
       "         -9.74680518e-05, -5.32026580e-03,  4.43669610e-02]],\n",
       "       shape=(2000, 10)),\n",
       " array([47.23787869, 47.05933591, 46.76227337, 46.13301437, 45.9429272 ,\n",
       "        45.68382409, 45.1771949 , 45.07089787, 44.65436737, 44.51386657]),\n",
       " array([[-0.00041385,  0.00710033,  0.00450039, ..., -0.01520184,\n",
       "         -0.00141794,  0.00012484],\n",
       "        [ 0.02167769, -0.00469652, -0.02255555, ..., -0.01732683,\n",
       "          0.00978917,  0.02570521],\n",
       "        [ 0.03728901,  0.00560387, -0.0032692 , ..., -0.02601068,\n",
       "         -0.00290287, -0.02312569],\n",
       "        ...,\n",
       "        [-0.00414498,  0.000124  , -0.00766745, ..., -0.00269745,\n",
       "          0.03211801, -0.01010085],\n",
       "        [-0.06832821, -0.002142  , -0.02100331, ...,  0.01224886,\n",
       "         -0.04972092,  0.01303637],\n",
       "        [-0.01970994, -0.00370778, -0.00367877, ..., -0.03199578,\n",
       "         -0.02318647, -0.03527912]], shape=(10, 2000)))"
      ]
     },
     "execution_count": 16,
     "metadata": {},
     "output_type": "execute_result"
    }
   ],
   "source": [
    "%%time\n",
    "# Perform RSVD\n",
    "rsvd(A, rank, power_iterations=2)"
   ]
  },
  {
   "cell_type": "code",
   "execution_count": null,
   "metadata": {},
   "outputs": [
    {
     "name": "stdout",
     "output_type": "stream",
     "text": [
      "CPU times: user 4.2 s, sys: 298 ms, total: 4.5 s\n",
      "Wall time: 1.71 s\n"
     ]
    }
   ],
   "source": [
    "%%time\n",
    "np.linalg.svd(A, full_matrices=False)"
   ]
  },
  {
   "cell_type": "code",
   "execution_count": null,
   "metadata": {},
   "outputs": [],
   "source": []
  }
 ],
 "metadata": {
  "kernelspec": {
   "display_name": ".venv",
   "language": "python",
   "name": "python3"
  },
  "language_info": {
   "codemirror_mode": {
    "name": "ipython",
    "version": 3
   },
   "file_extension": ".py",
   "mimetype": "text/x-python",
   "name": "python",
   "nbconvert_exporter": "python",
   "pygments_lexer": "ipython3",
   "version": "3.10.13"
  }
 },
 "nbformat": 4,
 "nbformat_minor": 2
}
